{
 "cells": [
  {
   "cell_type": "markdown",
   "id": "b3313e6d",
   "metadata": {},
   "source": [
    "# 4. Five-fold Cross-Validation and Blending\n",
    "\n",
    "**Objective**: Move from a single train / validation split to 5-fold stratified cross-validation for more reliable predictions.\n"
   ]
  },
  {
   "cell_type": "markdown",
   "id": "c8c23718",
   "metadata": {},
   "source": [
    "## 4.1. Setup and Data Cleaning"
   ]
  },
  {
   "cell_type": "code",
   "execution_count": 1,
   "id": "81849333",
   "metadata": {},
   "outputs": [
    {
     "name": "stdout",
     "output_type": "stream",
     "text": [
      "Data loaded and cleaned successfully!\n"
     ]
    }
   ],
   "source": [
    "# Setup and data cleaning\n",
    "\n",
    "## imports\n",
    "import pandas as pd\n",
    "import numpy as np\n",
    "import re\n",
    "\n",
    "from sklearn.model_selection import StratifiedKFold\n",
    "from sklearn.feature_extraction.text import TfidfVectorizer\n",
    "from sklearn.linear_model import LogisticRegression\n",
    "from sklearn.metrics import f1_score\n",
    "\n",
    "## Loading the data\n",
    "train_df = pd.read_csv('../data/train.csv')\n",
    "test_df = pd.read_csv('../data/test.csv')\n",
    "sample_submission_df = pd.read_csv('../data/sample_submission.csv')\n",
    "\n",
    "## Define clean3\n",
    "def clean3(text):\n",
    "  text = text.lower() # lowercasing\n",
    "  text = re.sub(r\"#([a-z0-9_]+)\", r\"\\1\", text) # Hashtag to plain word\n",
    "  text = re.sub(r'http\\S+', \"\", text) # removing HTTP. URL\n",
    "  text = re.sub(r\"www\\.\\S+\", \"\", text) # removing WWW. URL\n",
    "  text = re.sub(r'@\\w+', \"\", text) # removing @mentions\n",
    "  text = re.sub(r\"[^a-z0-9\\s]\", \" \", text) #removing other characters other than a-z, 0-9 and whitespace\n",
    "  text = re.sub(r\"\\s+\", \" \", text).strip() # Changing multiple spaces into one\n",
    "  return text\n",
    "\n",
    "##Apply clean3 \n",
    "train_df['clean_text'] = train_df['text'].apply(clean3)\n",
    "test_df['clean_text']   = test_df['text'].apply(clean3)\n",
    "print(\"Data loaded and cleaned successfully!\")\n"
   ]
  },
  {
   "cell_type": "markdown",
   "id": "6200b94a",
   "metadata": {},
   "source": [
    "## 4.2. Configure Cross-Validation Strategy\n",
    "\n",
    "Here, we define our constants and modeling parameters.\n",
    "- `N_SPLITS = 5`: We'll be doing 5-fold CV.\n",
    "- `StratifiedKFold`: We use this specific CV method to ensure the percentage of disaster vs. non-disaster tweets is the same in each fold as it is in the overall dataset.\n",
    "- `random_state=42`: This guarantees that the \"shuffle\" is the same every time we run the code, making our results reproducible."
   ]
  },
  {
   "cell_type": "code",
   "execution_count": 2,
   "id": "8891d699",
   "metadata": {},
   "outputs": [
    {
     "name": "stdout",
     "output_type": "stream",
     "text": [
      "CV strategy and prediction arrays are set up.\n"
     ]
    }
   ],
   "source": [
    "# Configuration\n",
    "\n",
    "TARGET = 'target'\n",
    "N_SPLITS = 5\n",
    "BEST_PARAMS = {'C':1.0, 'ngram_range': (1,2), 'min_df': 2}\n",
    "\n",
    "# Initializing the splitter\n",
    "skf = StratifiedKFold(n_splits = N_SPLITS, shuffle = True, random_state = 42)\n",
    "\n",
    "# Creating empty arrays to store predictions\n",
    "oof_preds = np.zeros(len(train_df))\n",
    "test_preds = np.zeros(len(test_df))\n",
    "\n",
    "print(\"CV strategy and prediction arrays are set up.\")\n"
   ]
  },
  {
   "cell_type": "markdown",
   "id": "ac4a5de3",
   "metadata": {},
   "source": [
    "## 4.3. Run the 5-Fold CV Loop"
   ]
  },
  {
   "cell_type": "code",
   "execution_count": 3,
   "id": "471b78a3",
   "metadata": {},
   "outputs": [
    {
     "name": "stdout",
     "output_type": "stream",
     "text": [
      "===== FOLD 1 =====\n",
      "===== FOLD 2 =====\n",
      "===== FOLD 3 =====\n",
      "===== FOLD 4 =====\n",
      "===== FOLD 5 =====\n",
      "\n",
      "CV loop finished!\n"
     ]
    }
   ],
   "source": [
    "# Creating CV loop\n",
    "\n",
    "for fold, (train_idx, val_idx) in enumerate(skf.split(train_df, train_df[TARGET])):\n",
    "  print(f\"===== FOLD {fold+1} =====\")\n",
    "\n",
    "  # spliting data\n",
    "  X_train_fold = train_df.loc[train_idx, 'clean_text']\n",
    "  y_train_fold = train_df.loc[train_idx, TARGET]\n",
    "  X_val_fold = train_df.loc[val_idx, 'clean_text']\n",
    "\n",
    "  # Fitting the vectorizer on the training data \n",
    "  vectorizer = TfidfVectorizer(\n",
    "    ngram_range = BEST_PARAMS['ngram_range'],\n",
    "    min_df=BEST_PARAMS['min_df']\n",
    "  )\n",
    "  X_train_fold_vec = vectorizer.fit_transform(X_train_fold)\n",
    "\n",
    "  # Using the fitted vectorizer to transform the validation and test sets\n",
    "  X_val_fold_vec = vectorizer.transform(X_val_fold)\n",
    "  X_test_vec = vectorizer.transform(test_df['clean_text'])\n",
    "\n",
    "  # Training the model\n",
    "  model = LogisticRegression(C=BEST_PARAMS['C'], solver='liblinear', random_state=42)\n",
    "  model.fit(X_train_fold_vec, y_train_fold)\n",
    "\n",
    "  # Predicting on validation data and storing in our OOF array\n",
    "  val_preds_proba = model.predict_proba(X_val_fold_vec)[:, 1]\n",
    "  oof_preds[val_idx] = val_preds_proba\n",
    "\n",
    "   # Predict on test data and add to our running average\n",
    "  test_preds += model.predict_proba(X_test_vec)[:, 1] / N_SPLITS\n",
    "    \n",
    "print(\"\\nCV loop finished!\")"
   ]
  },
  {
   "cell_type": "markdown",
   "id": "c7e21abd",
   "metadata": {},
   "source": [
    "## 4.4. Evaluate Performance and Create Submission"
   ]
  },
  {
   "cell_type": "code",
   "execution_count": null,
   "id": "1fa6872a",
   "metadata": {},
   "outputs": [
    {
     "name": "stdout",
     "output_type": "stream",
     "text": [
      "Overall OOF F1 Score: 0.74529\n",
      "Submission file 'submission_blend.csv' created successfully!\n"
     ]
    },
    {
     "data": {
      "text/html": [
       "<div>\n",
       "<style scoped>\n",
       "    .dataframe tbody tr th:only-of-type {\n",
       "        vertical-align: middle;\n",
       "    }\n",
       "\n",
       "    .dataframe tbody tr th {\n",
       "        vertical-align: top;\n",
       "    }\n",
       "\n",
       "    .dataframe thead th {\n",
       "        text-align: right;\n",
       "    }\n",
       "</style>\n",
       "<table border=\"1\" class=\"dataframe\">\n",
       "  <thead>\n",
       "    <tr style=\"text-align: right;\">\n",
       "      <th></th>\n",
       "      <th>id</th>\n",
       "      <th>target</th>\n",
       "    </tr>\n",
       "  </thead>\n",
       "  <tbody>\n",
       "    <tr>\n",
       "      <th>0</th>\n",
       "      <td>0</td>\n",
       "      <td>1</td>\n",
       "    </tr>\n",
       "    <tr>\n",
       "      <th>1</th>\n",
       "      <td>2</td>\n",
       "      <td>0</td>\n",
       "    </tr>\n",
       "    <tr>\n",
       "      <th>2</th>\n",
       "      <td>3</td>\n",
       "      <td>1</td>\n",
       "    </tr>\n",
       "    <tr>\n",
       "      <th>3</th>\n",
       "      <td>9</td>\n",
       "      <td>0</td>\n",
       "    </tr>\n",
       "    <tr>\n",
       "      <th>4</th>\n",
       "      <td>11</td>\n",
       "      <td>1</td>\n",
       "    </tr>\n",
       "  </tbody>\n",
       "</table>\n",
       "</div>"
      ],
      "text/plain": [
       "   id  target\n",
       "0   0       1\n",
       "1   2       0\n",
       "2   3       1\n",
       "3   9       0\n",
       "4  11       1"
      ]
     },
     "execution_count": 4,
     "metadata": {},
     "output_type": "execute_result"
    }
   ],
   "source": [
    "# Evaluate OOF Predictions \n",
    "oof_f1 = f1_score(y_true=train_df[TARGET], y_pred=(oof_preds > 0.5).astype(int))\n",
    "print(f\"Overall OOF F1 Score: {oof_f1:.5f}\")\n",
    "\n",
    "# Create Submission File\n",
    "submission_df = sample_submission_df.copy()\n",
    "submission_df[TARGET] = (test_preds > 0.5).astype(int)\n",
    "submission_df.to_csv('submission_blend.csv', index=False)\n",
    "\n",
    "print(\"Submission file 'submission_blend.csv' created successfully!\")\n",
    "submission_df.head()"
   ]
  },
  {
   "cell_type": "markdown",
   "id": "9e7bbf01",
   "metadata": {},
   "source": [
    "- Result: 0.80110 in Kaggle submission"
   ]
  }
 ],
 "metadata": {
  "kernelspec": {
   "display_name": ".venv",
   "language": "python",
   "name": "python3"
  },
  "language_info": {
   "codemirror_mode": {
    "name": "ipython",
    "version": 3
   },
   "file_extension": ".py",
   "mimetype": "text/x-python",
   "name": "python",
   "nbconvert_exporter": "python",
   "pygments_lexer": "ipython3",
   "version": "3.11.4"
  }
 },
 "nbformat": 4,
 "nbformat_minor": 5
}
