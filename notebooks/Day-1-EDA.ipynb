{
 "cells": [
  {
   "cell_type": "markdown",
   "metadata": {},
   "source": [
    "# 1. Exploratory Data Analysis (EDA)"
   ]
  },
  {
   "cell_type": "code",
   "execution_count": 1,
   "metadata": {},
   "outputs": [
    {
     "name": "stdout",
     "output_type": "stream",
     "text": [
      "(7613, 5)\n"
     ]
    },
    {
     "data": {
      "text/html": [
       "<div>\n",
       "<style scoped>\n",
       "    .dataframe tbody tr th:only-of-type {\n",
       "        vertical-align: middle;\n",
       "    }\n",
       "\n",
       "    .dataframe tbody tr th {\n",
       "        vertical-align: top;\n",
       "    }\n",
       "\n",
       "    .dataframe thead th {\n",
       "        text-align: right;\n",
       "    }\n",
       "</style>\n",
       "<table border=\"1\" class=\"dataframe\">\n",
       "  <thead>\n",
       "    <tr style=\"text-align: right;\">\n",
       "      <th></th>\n",
       "      <th>id</th>\n",
       "      <th>keyword</th>\n",
       "      <th>location</th>\n",
       "      <th>text</th>\n",
       "      <th>target</th>\n",
       "    </tr>\n",
       "  </thead>\n",
       "  <tbody>\n",
       "    <tr>\n",
       "      <th>0</th>\n",
       "      <td>1</td>\n",
       "      <td>NaN</td>\n",
       "      <td>NaN</td>\n",
       "      <td>Our Deeds are the Reason of this #earthquake M...</td>\n",
       "      <td>1</td>\n",
       "    </tr>\n",
       "    <tr>\n",
       "      <th>1</th>\n",
       "      <td>4</td>\n",
       "      <td>NaN</td>\n",
       "      <td>NaN</td>\n",
       "      <td>Forest fire near La Ronge Sask. Canada</td>\n",
       "      <td>1</td>\n",
       "    </tr>\n",
       "    <tr>\n",
       "      <th>2</th>\n",
       "      <td>5</td>\n",
       "      <td>NaN</td>\n",
       "      <td>NaN</td>\n",
       "      <td>All residents asked to 'shelter in place' are ...</td>\n",
       "      <td>1</td>\n",
       "    </tr>\n",
       "    <tr>\n",
       "      <th>3</th>\n",
       "      <td>6</td>\n",
       "      <td>NaN</td>\n",
       "      <td>NaN</td>\n",
       "      <td>13,000 people receive #wildfires evacuation or...</td>\n",
       "      <td>1</td>\n",
       "    </tr>\n",
       "    <tr>\n",
       "      <th>4</th>\n",
       "      <td>7</td>\n",
       "      <td>NaN</td>\n",
       "      <td>NaN</td>\n",
       "      <td>Just got sent this photo from Ruby #Alaska as ...</td>\n",
       "      <td>1</td>\n",
       "    </tr>\n",
       "  </tbody>\n",
       "</table>\n",
       "</div>"
      ],
      "text/plain": [
       "   id keyword location                                               text  \\\n",
       "0   1     NaN      NaN  Our Deeds are the Reason of this #earthquake M...   \n",
       "1   4     NaN      NaN             Forest fire near La Ronge Sask. Canada   \n",
       "2   5     NaN      NaN  All residents asked to 'shelter in place' are ...   \n",
       "3   6     NaN      NaN  13,000 people receive #wildfires evacuation or...   \n",
       "4   7     NaN      NaN  Just got sent this photo from Ruby #Alaska as ...   \n",
       "\n",
       "   target  \n",
       "0       1  \n",
       "1       1  \n",
       "2       1  \n",
       "3       1  \n",
       "4       1  "
      ]
     },
     "execution_count": 1,
     "metadata": {},
     "output_type": "execute_result"
    }
   ],
   "source": [
    "import pandas as pd\n",
    "\n",
    "# Load the data\n",
    "train = pd.read_csv('../data/train.csv', encoding='utf-8')  \n",
    "\n",
    "print(train.shape)\n",
    "train.head()\n"
   ]
  },
  {
   "cell_type": "code",
   "execution_count": 7,
   "metadata": {},
   "outputs": [
    {
     "name": "stdout",
     "output_type": "stream",
     "text": [
      "<class 'pandas.core.frame.DataFrame'>\n",
      "RangeIndex: 7613 entries, 0 to 7612\n",
      "Data columns (total 9 columns):\n",
      " #   Column      Non-Null Count  Dtype \n",
      "---  ------      --------------  ----- \n",
      " 0   id          7613 non-null   int64 \n",
      " 1   keyword     7552 non-null   object\n",
      " 2   location    5080 non-null   object\n",
      " 3   text        7613 non-null   object\n",
      " 4   target      7613 non-null   int64 \n",
      " 5   n_chars     7613 non-null   int64 \n",
      " 6   n_words     7613 non-null   int64 \n",
      " 7   n_hashtags  7613 non-null   int64 \n",
      " 8   n_emojis    7613 non-null   int64 \n",
      "dtypes: int64(6), object(3)\n",
      "memory usage: 535.4+ KB\n"
     ]
    },
    {
     "data": {
      "text/html": [
       "<div>\n",
       "<style scoped>\n",
       "    .dataframe tbody tr th:only-of-type {\n",
       "        vertical-align: middle;\n",
       "    }\n",
       "\n",
       "    .dataframe tbody tr th {\n",
       "        vertical-align: top;\n",
       "    }\n",
       "\n",
       "    .dataframe thead th {\n",
       "        text-align: right;\n",
       "    }\n",
       "</style>\n",
       "<table border=\"1\" class=\"dataframe\">\n",
       "  <thead>\n",
       "    <tr style=\"text-align: right;\">\n",
       "      <th></th>\n",
       "      <th>count</th>\n",
       "      <th>unique</th>\n",
       "      <th>top</th>\n",
       "      <th>freq</th>\n",
       "      <th>mean</th>\n",
       "      <th>std</th>\n",
       "      <th>min</th>\n",
       "      <th>25%</th>\n",
       "      <th>50%</th>\n",
       "      <th>75%</th>\n",
       "      <th>max</th>\n",
       "    </tr>\n",
       "  </thead>\n",
       "  <tbody>\n",
       "    <tr>\n",
       "      <th>id</th>\n",
       "      <td>7613.0</td>\n",
       "      <td>NaN</td>\n",
       "      <td>NaN</td>\n",
       "      <td>NaN</td>\n",
       "      <td>5441.934848</td>\n",
       "      <td>3137.11609</td>\n",
       "      <td>1.0</td>\n",
       "      <td>2734.0</td>\n",
       "      <td>5408.0</td>\n",
       "      <td>8146.0</td>\n",
       "      <td>10873.0</td>\n",
       "    </tr>\n",
       "    <tr>\n",
       "      <th>keyword</th>\n",
       "      <td>7552</td>\n",
       "      <td>221</td>\n",
       "      <td>fatalities</td>\n",
       "      <td>45</td>\n",
       "      <td>NaN</td>\n",
       "      <td>NaN</td>\n",
       "      <td>NaN</td>\n",
       "      <td>NaN</td>\n",
       "      <td>NaN</td>\n",
       "      <td>NaN</td>\n",
       "      <td>NaN</td>\n",
       "    </tr>\n",
       "    <tr>\n",
       "      <th>location</th>\n",
       "      <td>5080</td>\n",
       "      <td>3341</td>\n",
       "      <td>USA</td>\n",
       "      <td>104</td>\n",
       "      <td>NaN</td>\n",
       "      <td>NaN</td>\n",
       "      <td>NaN</td>\n",
       "      <td>NaN</td>\n",
       "      <td>NaN</td>\n",
       "      <td>NaN</td>\n",
       "      <td>NaN</td>\n",
       "    </tr>\n",
       "    <tr>\n",
       "      <th>text</th>\n",
       "      <td>7613</td>\n",
       "      <td>7503</td>\n",
       "      <td>11-Year-Old Boy Charged With Manslaughter of T...</td>\n",
       "      <td>10</td>\n",
       "      <td>NaN</td>\n",
       "      <td>NaN</td>\n",
       "      <td>NaN</td>\n",
       "      <td>NaN</td>\n",
       "      <td>NaN</td>\n",
       "      <td>NaN</td>\n",
       "      <td>NaN</td>\n",
       "    </tr>\n",
       "    <tr>\n",
       "      <th>target</th>\n",
       "      <td>7613.0</td>\n",
       "      <td>NaN</td>\n",
       "      <td>NaN</td>\n",
       "      <td>NaN</td>\n",
       "      <td>0.42966</td>\n",
       "      <td>0.49506</td>\n",
       "      <td>0.0</td>\n",
       "      <td>0.0</td>\n",
       "      <td>0.0</td>\n",
       "      <td>1.0</td>\n",
       "      <td>1.0</td>\n",
       "    </tr>\n",
       "    <tr>\n",
       "      <th>n_chars</th>\n",
       "      <td>7613.0</td>\n",
       "      <td>NaN</td>\n",
       "      <td>NaN</td>\n",
       "      <td>NaN</td>\n",
       "      <td>101.037436</td>\n",
       "      <td>33.781325</td>\n",
       "      <td>7.0</td>\n",
       "      <td>78.0</td>\n",
       "      <td>107.0</td>\n",
       "      <td>133.0</td>\n",
       "      <td>157.0</td>\n",
       "    </tr>\n",
       "    <tr>\n",
       "      <th>n_words</th>\n",
       "      <td>7613.0</td>\n",
       "      <td>NaN</td>\n",
       "      <td>NaN</td>\n",
       "      <td>NaN</td>\n",
       "      <td>14.903586</td>\n",
       "      <td>5.732604</td>\n",
       "      <td>1.0</td>\n",
       "      <td>11.0</td>\n",
       "      <td>15.0</td>\n",
       "      <td>19.0</td>\n",
       "      <td>31.0</td>\n",
       "    </tr>\n",
       "    <tr>\n",
       "      <th>n_hashtags</th>\n",
       "      <td>7613.0</td>\n",
       "      <td>NaN</td>\n",
       "      <td>NaN</td>\n",
       "      <td>NaN</td>\n",
       "      <td>0.43741</td>\n",
       "      <td>1.085629</td>\n",
       "      <td>0.0</td>\n",
       "      <td>0.0</td>\n",
       "      <td>0.0</td>\n",
       "      <td>0.0</td>\n",
       "      <td>13.0</td>\n",
       "    </tr>\n",
       "    <tr>\n",
       "      <th>n_emojis</th>\n",
       "      <td>7613.0</td>\n",
       "      <td>NaN</td>\n",
       "      <td>NaN</td>\n",
       "      <td>NaN</td>\n",
       "      <td>0.0</td>\n",
       "      <td>0.0</td>\n",
       "      <td>0.0</td>\n",
       "      <td>0.0</td>\n",
       "      <td>0.0</td>\n",
       "      <td>0.0</td>\n",
       "      <td>0.0</td>\n",
       "    </tr>\n",
       "  </tbody>\n",
       "</table>\n",
       "</div>"
      ],
      "text/plain": [
       "             count unique                                                top  \\\n",
       "id          7613.0    NaN                                                NaN   \n",
       "keyword       7552    221                                         fatalities   \n",
       "location      5080   3341                                                USA   \n",
       "text          7613   7503  11-Year-Old Boy Charged With Manslaughter of T...   \n",
       "target      7613.0    NaN                                                NaN   \n",
       "n_chars     7613.0    NaN                                                NaN   \n",
       "n_words     7613.0    NaN                                                NaN   \n",
       "n_hashtags  7613.0    NaN                                                NaN   \n",
       "n_emojis    7613.0    NaN                                                NaN   \n",
       "\n",
       "           freq         mean         std  min     25%     50%     75%      max  \n",
       "id          NaN  5441.934848  3137.11609  1.0  2734.0  5408.0  8146.0  10873.0  \n",
       "keyword      45          NaN         NaN  NaN     NaN     NaN     NaN      NaN  \n",
       "location    104          NaN         NaN  NaN     NaN     NaN     NaN      NaN  \n",
       "text         10          NaN         NaN  NaN     NaN     NaN     NaN      NaN  \n",
       "target      NaN      0.42966     0.49506  0.0     0.0     0.0     1.0      1.0  \n",
       "n_chars     NaN   101.037436   33.781325  7.0    78.0   107.0   133.0    157.0  \n",
       "n_words     NaN    14.903586    5.732604  1.0    11.0    15.0    19.0     31.0  \n",
       "n_hashtags  NaN      0.43741    1.085629  0.0     0.0     0.0     0.0     13.0  \n",
       "n_emojis    NaN          0.0         0.0  0.0     0.0     0.0     0.0      0.0  "
      ]
     },
     "execution_count": 7,
     "metadata": {},
     "output_type": "execute_result"
    }
   ],
   "source": [
    "# Basic inspection of the data\n",
    "train.info()\n",
    "train.describe(include='all').T"
   ]
  },
  {
   "cell_type": "markdown",
   "metadata": {},
   "source": [
    "- Data contains 7,613 rows and five columns; id, keyword, location, text, target.\n",
    "- However, the keyword column has 61 missing values, and the location column has 2,533 missing values.\n",
    "- On average, 43% of tweets are labelled as disasters. "
   ]
  },
  {
   "cell_type": "code",
   "execution_count": 8,
   "metadata": {},
   "outputs": [
    {
     "name": "stdout",
     "output_type": "stream",
     "text": [
      "          count        mean        std  min   25%    50%    75%    max\n",
      "n_chars  7613.0  101.037436  33.781325  7.0  78.0  107.0  133.0  157.0\n",
      "n_words  7613.0   14.903586   5.732604  1.0  11.0   15.0   19.0   31.0\n"
     ]
    },
    {
     "data": {
      "image/png": "[encoded data removed]",
      "text/plain": [
       "<Figure size 640x480 with 1 Axes>"
      ]
     },
     "metadata": {},
     "output_type": "display_data"
    }
   ],
   "source": [
    "# Checking the length of tweets\n",
    "train['n_chars'] = train['text'].str.len()\n",
    "train['n_words'] = train['text'].str.split().str.len()\n",
    "\n",
    "length_stats = train[['n_chars', 'n_words']].describe().T\n",
    "print(length_stats)\n",
    "\n",
    "# Word-count histogram\n",
    "import matplotlib.pyplot as plt\n",
    "\n",
    "plt.hist(train['n_words'], bins=30)\n",
    "plt.title(\"Word Count Distribution of Tweets\")\n",
    "plt.xlabel('Number of words')\n",
    "plt.ylabel('Number of tweets')\n",
    "plt.show()"
   ]
  },
  {
   "cell_type": "markdown",
   "metadata": {},
   "source": [
    "- Above histogram shows roughly bell-shaped distribution, indicating that tweet lengths are normally distributed around a central value.\n",
    "- On average, tweets in the dataset contain approximately 15 words and 100 characters.\n"
   ]
  },
  {
   "cell_type": "code",
   "execution_count": 9,
   "metadata": {},
   "outputs": [
    {
     "name": "stdout",
     "output_type": "stream",
     "text": [
      "Train disaster %: 0.4297208538587849\n",
      "Val disaster %: 0.4294156270518713\n"
     ]
    }
   ],
   "source": [
    "# Stratified Train/Validation Split\n",
    "from sklearn.model_selection import train_test_split\n",
    "\n",
    "train_df, val_df = train_test_split(\n",
    "  train,\n",
    "  test_size= 0.20,\n",
    "  stratify = train['target'],\n",
    "  random_state=42\n",
    ")\n",
    "\n",
    "print(\"Train disaster %:\", train_df['target'].mean())\n",
    "print(\"Val disaster %:\", val_df['target'].mean())"
   ]
  },
  {
   "cell_type": "markdown",
   "metadata": {},
   "source": [
    "- About 42.97% of tweets in the training set are labeled as disasters, whilst about 42.94% of tweets in the validation set are labeled as disasters.\n",
    "- These two percentages are almost identical, which confirms that the stratified split preserved the class balance of the origianl dataset.\n",
    "- This is important because it ensures the class balance (disaster vs. non-disaster tweets) is preserved in both training and validation sets. This makes the evaluation more reliable and avoids bias due to uneven class distributions."
   ]
  },
  {
   "cell_type": "code",
   "execution_count": 14,
   "metadata": {},
   "outputs": [
    {
     "name": "stdout",
     "output_type": "stream",
     "text": [
      "        n_hashtags  n_mentions\n",
      "target                        \n",
      "0         0.388761    0.420313\n",
      "1         0.501987    0.272088\n"
     ]
    }
   ],
   "source": [
    "# Checking hashtags and mentions usage\n",
    "import re\n",
    "\n",
    "# Count hashtags\n",
    "train['n_hashtags'] = train['text'].str.count(r'#\\w+')\n",
    "\n",
    "# Count mentions\n",
    "train['n_mentions'] = train['text'].str.count(r'@\\w+')\n",
    "\n",
    "# Compare averages across target (0 = non-disaster, 1 = disaster)\n",
    "hashtag_mention_stats = train.groupby('target')[['n_hashtags', 'n_mentions']].mean()\n",
    "print(hashtag_mention_stats)\n",
    "\n"
   ]
  },
  {
   "cell_type": "markdown",
   "metadata": {},
   "source": [
    "- **Disaster tweets include more hashtags**, likely to tag events or raise awareness.\n",
    "- **Non-disaster tweets contain more user mentions**, suggesting more conversational or social interactions.\n",
    "- These patterns suggest that hashtags and mentions can be meaningful features in distinguishing tweet types."
   ]
  }
 ],
 "metadata": {
  "kernelspec": {
   "display_name": ".venv",
   "language": "python",
   "name": "python3"
  },
  "language_info": {
   "codemirror_mode": {
    "name": "ipython",
    "version": 3
   },
   "file_extension": ".py",
   "mimetype": "text/x-python",
   "name": "python",
   "nbconvert_exporter": "python",
   "pygments_lexer": "ipython3",
   "version": "3.11.4"
  }
 },
 "nbformat": 4,
 "nbformat_minor": 2
}
